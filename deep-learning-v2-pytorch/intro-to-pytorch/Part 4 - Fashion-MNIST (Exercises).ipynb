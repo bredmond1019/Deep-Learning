{
 "cells": [
  {
   "cell_type": "markdown",
   "metadata": {},
   "source": [
    "# Classifying Fashion-MNIST\n",
    "\n",
    "Now it's your turn to build and train a neural network. You'll be using the [Fashion-MNIST dataset](https://github.com/zalandoresearch/fashion-mnist), a drop-in replacement for the MNIST dataset. MNIST is actually quite trivial with neural networks where you can easily achieve better than 97% accuracy. Fashion-MNIST is a set of 28x28 greyscale images of clothes. It's more complex than MNIST, so it's a better representation of the actual performance of your network, and a better representation of datasets you'll use in the real world.\n",
    "\n",
    "<img src='assets/fashion-mnist-sprite.png' width=500px>\n",
    "\n",
    "In this notebook, you'll build your own neural network. For the most part, you could just copy and paste the code from Part 3, but you wouldn't be learning. It's important for you to write the code yourself and get it to work. Feel free to consult the previous notebooks though as you work through this.\n",
    "\n",
    "First off, let's load the dataset through torchvision."
   ]
  },
  {
   "cell_type": "code",
   "execution_count": 1,
   "metadata": {},
   "outputs": [
    {
     "output_type": "stream",
     "name": "stderr",
     "text": [
      "0it [00:00, ?it/s]Downloading http://fashion-mnist.s3-website.eu-central-1.amazonaws.com/train-images-idx3-ubyte.gz to /home/brandon/.pytorch/F_MNIST_data/FashionMNIST/raw/train-images-idx3-ubyte.gz\n",
      "26427392it [00:02, 9504374.93it/s]                               \n",
      "Extracting /home/brandon/.pytorch/F_MNIST_data/FashionMNIST/raw/train-images-idx3-ubyte.gz to /home/brandon/.pytorch/F_MNIST_data/FashionMNIST/raw\n",
      "0it [00:00, ?it/s]Downloading http://fashion-mnist.s3-website.eu-central-1.amazonaws.com/train-labels-idx1-ubyte.gz to /home/brandon/.pytorch/F_MNIST_data/FashionMNIST/raw/train-labels-idx1-ubyte.gz\n",
      "32768it [00:00, 111496.69it/s]           \n",
      "0it [00:00, ?it/s]Extracting /home/brandon/.pytorch/F_MNIST_data/FashionMNIST/raw/train-labels-idx1-ubyte.gz to /home/brandon/.pytorch/F_MNIST_data/FashionMNIST/raw\n",
      "Downloading http://fashion-mnist.s3-website.eu-central-1.amazonaws.com/t10k-images-idx3-ubyte.gz to /home/brandon/.pytorch/F_MNIST_data/FashionMNIST/raw/t10k-images-idx3-ubyte.gz\n",
      "4423680it [00:01, 4125431.17it/s]                            \n",
      "0it [00:00, ?it/s]Extracting /home/brandon/.pytorch/F_MNIST_data/FashionMNIST/raw/t10k-images-idx3-ubyte.gz to /home/brandon/.pytorch/F_MNIST_data/FashionMNIST/raw\n",
      "Downloading http://fashion-mnist.s3-website.eu-central-1.amazonaws.com/t10k-labels-idx1-ubyte.gz to /home/brandon/.pytorch/F_MNIST_data/FashionMNIST/raw/t10k-labels-idx1-ubyte.gz\n",
      "8192it [00:00, 31162.58it/s]            \n",
      "Extracting /home/brandon/.pytorch/F_MNIST_data/FashionMNIST/raw/t10k-labels-idx1-ubyte.gz to /home/brandon/.pytorch/F_MNIST_data/FashionMNIST/raw\n",
      "Processing...\n",
      "Done!\n"
     ]
    }
   ],
   "source": [
    "import torch\n",
    "from torchvision import datasets, transforms\n",
    "import helper\n",
    "\n",
    "# Define a transform to normalize the data\n",
    "transform = transforms.Compose([transforms.ToTensor(),\n",
    "                                transforms.Normalize((0.5,), (0.5,))])\n",
    "# Download and load the training data\n",
    "trainset = datasets.FashionMNIST('~/.pytorch/F_MNIST_data/', download=True, train=True, transform=transform)\n",
    "trainloader = torch.utils.data.DataLoader(trainset, batch_size=64, shuffle=True)\n",
    "\n",
    "# Download and load the test data\n",
    "testset = datasets.FashionMNIST('~/.pytorch/F_MNIST_data/', download=True, train=False, transform=transform)\n",
    "testloader = torch.utils.data.DataLoader(testset, batch_size=64, shuffle=True)"
   ]
  },
  {
   "cell_type": "markdown",
   "metadata": {},
   "source": [
    "Here we can see one of the images."
   ]
  },
  {
   "cell_type": "code",
   "execution_count": 4,
   "metadata": {},
   "outputs": [
    {
     "output_type": "execute_result",
     "data": {
      "text/plain": [
       "tensor([1, 5, 7, 1, 9, 2, 2, 0, 6, 0, 2, 9, 0, 4, 5, 5, 8, 5, 3, 4, 9, 6, 2, 9,\n",
       "        7, 6, 9, 2, 2, 3, 0, 8, 9, 8, 0, 5, 3, 0, 0, 1, 0, 8, 7, 5, 4, 3, 4, 5,\n",
       "        1, 7, 9, 3, 8, 7, 6, 9, 0, 3, 8, 9, 1, 1, 4, 0])"
      ]
     },
     "metadata": {},
     "execution_count": 4
    },
    {
     "output_type": "display_data",
     "data": {
      "text/plain": "<Figure size 432x288 with 1 Axes>",
      "image/svg+xml": "<?xml version=\"1.0\" encoding=\"utf-8\" standalone=\"no\"?>\n<!DOCTYPE svg PUBLIC \"-//W3C//DTD SVG 1.1//EN\"\n  \"http://www.w3.org/Graphics/SVG/1.1/DTD/svg11.dtd\">\n<!-- Created with matplotlib (https://matplotlib.org/) -->\n<svg height=\"231.84pt\" version=\"1.1\" viewBox=\"0 0 231.84 231.84\" width=\"231.84pt\" xmlns=\"http://www.w3.org/2000/svg\" xmlns:xlink=\"http://www.w3.org/1999/xlink\">\n <defs>\n  <style type=\"text/css\">\n*{stroke-linecap:butt;stroke-linejoin:round;}\n  </style>\n </defs>\n <g id=\"figure_1\">\n  <g id=\"patch_1\">\n   <path d=\"M 0 231.84 \nL 231.84 231.84 \nL 231.84 0 \nL 0 0 \nz\n\" style=\"fill:none;\"/>\n  </g>\n  <g id=\"axes_1\">\n   <g id=\"patch_2\">\n    <path d=\"M 7.2 224.64 \nL 224.64 224.64 \nL 224.64 7.2 \nL 7.2 7.2 \nz\n\" style=\"fill:#ffffff;\"/>\n   </g>\n   <g clip-path=\"url(#p013e1c4f93)\">\n    <image height=\"218\" id=\"image6bac8c2269\" transform=\"scale(1 -1)translate(0 -218)\" width=\"218\" x=\"7.2\" xlink:href=\"data:image/png;base64,\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\" y=\"-6.64\"/>\n   </g>\n   <g id=\"matplotlib.axis_1\">\n    <g id=\"xtick_1\">\n     <g id=\"line2d_1\"/>\n    </g>\n    <g id=\"xtick_2\">\n     <g id=\"line2d_2\"/>\n    </g>\n    <g id=\"xtick_3\">\n     <g id=\"line2d_3\"/>\n    </g>\n    <g id=\"xtick_4\">\n     <g id=\"line2d_4\"/>\n    </g>\n    <g id=\"xtick_5\">\n     <g id=\"line2d_5\"/>\n    </g>\n    <g id=\"xtick_6\">\n     <g id=\"line2d_6\"/>\n    </g>\n   </g>\n   <g id=\"matplotlib.axis_2\">\n    <g id=\"ytick_1\">\n     <g id=\"line2d_7\"/>\n    </g>\n    <g id=\"ytick_2\">\n     <g id=\"line2d_8\"/>\n    </g>\n    <g id=\"ytick_3\">\n     <g id=\"line2d_9\"/>\n    </g>\n    <g id=\"ytick_4\">\n     <g id=\"line2d_10\"/>\n    </g>\n    <g id=\"ytick_5\">\n     <g id=\"line2d_11\"/>\n    </g>\n    <g id=\"ytick_6\">\n     <g id=\"line2d_12\"/>\n    </g>\n   </g>\n  </g>\n </g>\n <defs>\n  <clipPath id=\"p013e1c4f93\">\n   <rect height=\"217.44\" width=\"217.44\" x=\"7.2\" y=\"7.2\"/>\n  </clipPath>\n </defs>\n</svg>\n",
      "image/png": "[encoded data removed]"
     },
     "metadata": {
      "needs_background": "light"
     }
    }
   ],
   "source": [
    "image, label = next(iter(trainloader))\n",
    "helper.imshow(image[0,:]);\n",
    "label"
   ]
  },
  {
   "cell_type": "markdown",
   "metadata": {},
   "source": [
    "## Building the network\n",
    "\n",
    "Here you should define your network. As with MNIST, each image is 28x28 which is a total of 784 pixels, and there are 10 classes. You should include at least one hidden layer. We suggest you use ReLU activations for the layers and to return the logits or log-softmax from the forward pass. It's up to you how many layers you add and the size of those layers."
   ]
  },
  {
   "cell_type": "code",
   "execution_count": 7,
   "metadata": {},
   "outputs": [],
   "source": [
    "# TODO: Define your network architecture here\n",
    "from torch import nn\n",
    "\n",
    "model = nn.Sequential(nn.Linear(784, 128), \n",
    "                      nn.ReLU(), \n",
    "                      nn.Linear(128, 64),\n",
    "                      nn.ReLU(),\n",
    "                      nn.Linear(64, 10),\n",
    "                      nn.LogSoftmax(dim=1))\n"
   ]
  },
  {
   "cell_type": "markdown",
   "metadata": {},
   "source": [
    "# Train the network\n",
    "\n",
    "Now you should create your network and train it. First you'll want to define [the criterion](http://pytorch.org/docs/master/nn.html#loss-functions) ( something like `nn.CrossEntropyLoss`) and [the optimizer](http://pytorch.org/docs/master/optim.html) (typically `optim.SGD` or `optim.Adam`).\n",
    "\n",
    "Then write the training code. Remember the training pass is a fairly straightforward process:\n",
    "\n",
    "* Make a forward pass through the network to get the logits \n",
    "* Use the logits to calculate the loss\n",
    "* Perform a backward pass through the network with `loss.backward()` to calculate the gradients\n",
    "* Take a step with the optimizer to update the weights\n",
    "\n",
    "By adjusting the hyperparameters (hidden units, learning rate, etc), you should be able to get the training loss below 0.4."
   ]
  },
  {
   "cell_type": "code",
   "execution_count": 8,
   "metadata": {},
   "outputs": [],
   "source": [
    "# TODO: Create the network, define the criterion and optimizer\n",
    "from torch import optim\n",
    "\n",
    "\n",
    "criterion = nn.NLLLoss()\n",
    "optimizer = optim.SGD(model.parameters(), lr = 0.01)"
   ]
  },
  {
   "cell_type": "code",
   "execution_count": 11,
   "metadata": {},
   "outputs": [
    {
     "output_type": "stream",
     "name": "stdout",
     "text": [
      "Training loss: 1.0056942914848896\n",
      "Training loss: 0.5606153811663707\n",
      "Training loss: 0.49100352512366735\n",
      "Training loss: 0.45659915200555756\n",
      "Training loss: 0.4345513951422563\n",
      "Training loss: 0.4167291426074022\n",
      "Training loss: 0.4025168949162274\n",
      "Training loss: 0.3904731741337888\n",
      "Training loss: 0.38008359668732705\n",
      "Training loss: 0.3710012622574753\n"
     ]
    }
   ],
   "source": [
    "# TODO: Train the network here\n",
    "\n",
    "epochs = 10\n",
    "for e in range(epochs):\n",
    "    running_loss = 0\n",
    "    for images, labels in trainloader:\n",
    "        images = images.view(images.shape[0], -1)\n",
    "        optimizer.zero_grad()\n",
    "\n",
    "        logps = model.forward(images)\n",
    "        loss = criterion(logps, labels)\n",
    "        loss.backward()\n",
    "        optimizer.step()\n",
    "\n",
    "        running_loss += loss.item()\n",
    "\n",
    "    else:\n",
    "        print(f\"Training loss: {running_loss/len(trainloader)}\")\n"
   ]
  },
  {
   "cell_type": "code",
   "execution_count": 13,
   "metadata": {},
   "outputs": [
    {
     "output_type": "display_data",
     "data": {
      "text/plain": "<Figure size 432x648 with 2 Axes>",
      "image/png": "[encoded data removed]"
     },
     "metadata": {
      "image/png": {
       "width": 424,
       "height": 216
      },
      "needs_background": "light"
     }
    }
   ],
   "source": [
    "%matplotlib inline\n",
    "%config InlineBackend.figure_format = 'retina'\n",
    "\n",
    "import helper\n",
    "\n",
    "# Test out your network!\n",
    "\n",
    "dataiter = iter(testloader)\n",
    "images, labels = dataiter.next()\n",
    "img = images[0]\n",
    "# Convert 2D image to 1D vector\n",
    "img = img.resize_(1, 784)\n",
    "\n",
    "# TODO: Calculate the class probabilities (softmax) for img\n",
    "ps = torch.exp(model(img))\n",
    "\n",
    "# Plot the image and probabilities\n",
    "helper.view_classify(img.resize_(1, 28, 28), ps, version='Fashion')"
   ]
  },
  {
   "cell_type": "code",
   "execution_count": null,
   "metadata": {},
   "outputs": [],
   "source": []
  }
 ],
 "metadata": {
  "kernelspec": {
   "display_name": "Python 3",
   "language": "python",
   "name": "python3"
  },
  "language_info": {
   "codemirror_mode": {
    "name": "ipython",
    "version": 3
   },
   "file_extension": ".py",
   "mimetype": "text/x-python",
   "name": "python",
   "nbconvert_exporter": "python",
   "pygments_lexer": "ipython3",
   "version": "3.8.3-final"
  }
 },
 "nbformat": 4,
 "nbformat_minor": 2
}